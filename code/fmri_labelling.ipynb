{
 "cells": [
  {
   "cell_type": "code",
   "execution_count": 1,
   "metadata": {},
   "outputs": [],
   "source": [
    "import os\n",
    "from os.path import join\n",
    "import sys \n",
    "import glob\n",
    "import numpy as np\n",
    "import nibabel as nib\n",
    "from IPython.display import Image\n",
    "from nipype.interfaces import fsl\n",
    "from nipype.interfaces.fsl import utils\n",
    "from nipype.testing import example_data\n",
    "from subprocess import call"
   ]
  },
  {
   "cell_type": "code",
   "execution_count": null,
   "metadata": {},
   "outputs": [],
   "source": [
    "call(\"hcpdownload.sh\")"
   ]
  },
  {
   "cell_type": "code",
   "execution_count": 2,
   "metadata": {},
   "outputs": [],
   "source": [
    "'''\n",
    "Read the names and the data shapes\n",
    "of all files with .nii format in \n",
    "the directory specified.\n",
    "'''\n",
    "\n",
    "def read_dir(diff): \n",
    "    for file in os.listdir(diff): \n",
    "        if '.nii' in file:\n",
    "            data = nib.load(join(diff, file))\n",
    "            data.uncache() #remove from the current memory so that the kernel doesn't die!\n",
    "            print ('{:30}'.format(file), ' :' ,data.shape)"
   ]
  },
  {
   "cell_type": "code",
   "execution_count": 3,
   "metadata": {},
   "outputs": [],
   "source": [
    "main_path = '/home/ubuntu/data/hcp/100307/'"
   ]
  },
  {
   "cell_type": "code",
   "execution_count": 4,
   "metadata": {},
   "outputs": [],
   "source": [
    "fmri_path = join(main_path, 'rfMRI_REST1_LR/')\n",
    "slice_path = join(fmri_path, 'split/vol0000.nii.gz')"
   ]
  },
  {
   "cell_type": "code",
   "execution_count": 5,
   "metadata": {},
   "outputs": [],
   "source": [
    "t1_path =  join(join(main_path, 'T1w'), 'T1w_acpc_dc_restore_brain.nii.gz')"
   ]
  },
  {
   "cell_type": "code",
   "execution_count": 13,
   "metadata": {},
   "outputs": [],
   "source": [
    "def fmri_slice(fmri, output_path):\n",
    "    pass"
   ]
  },
  {
   "cell_type": "code",
   "execution_count": 6,
   "metadata": {},
   "outputs": [],
   "source": [
    "def run_flirt(reference_path, template_path):\n",
    "    flt = fsl.FLIRT(bins= 256, cost_func='corratio')\n",
    "    flt.inputs.in_file = template_path\n",
    "    flt.inputs.reference = reference_path\n",
    "    flt.inputs.output_type = \"NIFTI_GZ\"\n",
    "    flt.inputs.out_file = join(main_path, 'frmi_slice_to_T1w.nii.gz')\n",
    "    flt.inputs.out_matrix_file = join(main_path, 'fmri_slice_to_T1w.mat')\n",
    "    print('The following command is being run:')\n",
    "    print(flt.cmdline) # doctest: +ELLIPSIS\n",
    "    #'flirt -in structural.nii -ref mni.nii -out structural_flirt.nii.gz -omat structural_flirt.mat -bins 640 -searchcost mutualinfo'\n",
    "    res = flt.run() #doctest: +SKIP"
   ]
  },
  {
   "cell_type": "code",
   "execution_count": 7,
   "metadata": {},
   "outputs": [
    {
     "name": "stdout",
     "output_type": "stream",
     "text": [
      "The following command is being run:\n",
      "flirt -in /home/ubuntu/data/hcp/100307/rfMRI_REST1_LR/split/vol0000.nii.gz -ref /home/ubuntu/data/hcp/100307/T1w/T1w_acpc_dc_restore_brain.nii.gz -out /home/ubuntu/data/hcp/100307/frmi_slice_to_T1w.nii.gz -omat /home/ubuntu/data/hcp/100307/fmri_slice_to_T1w.mat -bins 256 -searchcost corratio\n"
     ]
    }
   ],
   "source": [
    "run_flirt(t1_path, slice_path)"
   ]
  },
  {
   "cell_type": "code",
   "execution_count": 12,
   "metadata": {},
   "outputs": [],
   "source": [
    "def make_mask_from_label(labels, num, parc_affine): \n",
    "    masks_path = join(main_path, \"masks\")\n",
    "    mask_id_num = 1*(labels == num)\n",
    "    img = nib.Nifti1Image(mask_id_num, parc_affine)\n",
    "    print('Storing file name: mask_id_{0}_T1w '.format(str(num)) + 'in path' + main_path)\n",
    "    img.to_filename(os.path.join(main_path, 'mask_id_{0}_T1w'.format(str(num))))\n",
    "    "
   ]
  },
  {
   "cell_type": "code",
   "execution_count": 13,
   "metadata": {},
   "outputs": [],
   "source": [
    "def make_masks(labels, parc_affine): \n",
    "    \n",
    "    for l in np.unique(labels): \n",
    "        make_mask_from_label(labels, int(l), parc_affine)"
   ]
  },
  {
   "cell_type": "code",
   "execution_count": 14,
   "metadata": {},
   "outputs": [],
   "source": [
    "def load_affine(path): \n",
    "    \n",
    "    aff = open(join(path, 'fmri_slice_to_T1w.mat'))\n",
    "    aff = aff.read()\n",
    "    aff = [x.split(' ')[:-1] for x in aff.split('\\n')[:-1]]\n",
    "    aff = np.array([[float(y) for y in x[::2]] for x in aff])\n",
    "    print('The array for the transformation from fmri space to the T1 space')\n",
    "    print(aff)\n",
    "    return aff"
   ]
  },
  {
   "cell_type": "code",
   "execution_count": 15,
   "metadata": {},
   "outputs": [],
   "source": [
    "def load_parcellation(path): \n",
    "    \n",
    "    parc = nib.load(join(path, 'aparc+aseg.nii.gz'))\n",
    "    print('Shape of the parcellaition file:', parc.shape)\n",
    "    print('Affine matrix for parcellation file', parc.affine)\n",
    "    labels = parc.get_fdata()\n",
    "    print('Total number of different labels in parcellation file:', len(np.unique(labels)))\n",
    "    return labels, parc.affine"
   ]
  },
  {
   "cell_type": "code",
   "execution_count": 16,
   "metadata": {},
   "outputs": [
    {
     "name": "stdout",
     "output_type": "stream",
     "text": [
      "The array for the transformation from fmri space to the T1 space\n",
      "[[ 9.58394840e-01  1.04401833e-02  6.09542745e-03  2.24088513e+00]\n",
      " [-1.21214192e-02  9.08482330e-01  1.65524838e-03  1.21325548e+01]\n",
      " [ 8.24789862e-03 -9.00820793e-03  8.81513533e-01  6.91502496e+00]\n",
      " [ 0.00000000e+00  0.00000000e+00  0.00000000e+00  1.00000000e+00]]\n",
      "Shape of the parcellaition file: (260, 311, 260)\n",
      "Affine matrix for parcellation file [[  -0.69999999    0.            0.           90.        ]\n",
      " [   0.            0.69999999    0.         -126.        ]\n",
      " [   0.            0.            0.69999999  -72.        ]\n",
      " [   0.            0.            0.            1.        ]]\n",
      "Total number of different labels in parcellation file: 113\n",
      "Storing file name: mask_id_0_T1w in path/home/ubuntu/data/hcp/100307/\n",
      "Storing file name: mask_id_2_T1w in path/home/ubuntu/data/hcp/100307/\n",
      "Storing file name: mask_id_4_T1w in path/home/ubuntu/data/hcp/100307/\n",
      "Storing file name: mask_id_5_T1w in path/home/ubuntu/data/hcp/100307/\n",
      "Storing file name: mask_id_7_T1w in path/home/ubuntu/data/hcp/100307/\n",
      "Storing file name: mask_id_8_T1w in path/home/ubuntu/data/hcp/100307/\n",
      "Storing file name: mask_id_10_T1w in path/home/ubuntu/data/hcp/100307/\n",
      "Storing file name: mask_id_11_T1w in path/home/ubuntu/data/hcp/100307/\n",
      "Storing file name: mask_id_12_T1w in path/home/ubuntu/data/hcp/100307/\n",
      "Storing file name: mask_id_13_T1w in path/home/ubuntu/data/hcp/100307/\n",
      "Storing file name: mask_id_14_T1w in path/home/ubuntu/data/hcp/100307/\n",
      "Storing file name: mask_id_15_T1w in path/home/ubuntu/data/hcp/100307/\n",
      "Storing file name: mask_id_16_T1w in path/home/ubuntu/data/hcp/100307/\n",
      "Storing file name: mask_id_17_T1w in path/home/ubuntu/data/hcp/100307/\n",
      "Storing file name: mask_id_18_T1w in path/home/ubuntu/data/hcp/100307/\n",
      "Storing file name: mask_id_24_T1w in path/home/ubuntu/data/hcp/100307/\n",
      "Storing file name: mask_id_26_T1w in path/home/ubuntu/data/hcp/100307/\n",
      "Storing file name: mask_id_28_T1w in path/home/ubuntu/data/hcp/100307/\n",
      "Storing file name: mask_id_30_T1w in path/home/ubuntu/data/hcp/100307/\n",
      "Storing file name: mask_id_31_T1w in path/home/ubuntu/data/hcp/100307/\n",
      "Storing file name: mask_id_41_T1w in path/home/ubuntu/data/hcp/100307/\n",
      "Storing file name: mask_id_43_T1w in path/home/ubuntu/data/hcp/100307/\n",
      "Storing file name: mask_id_44_T1w in path/home/ubuntu/data/hcp/100307/\n",
      "Storing file name: mask_id_46_T1w in path/home/ubuntu/data/hcp/100307/\n",
      "Storing file name: mask_id_47_T1w in path/home/ubuntu/data/hcp/100307/\n",
      "Storing file name: mask_id_49_T1w in path/home/ubuntu/data/hcp/100307/\n",
      "Storing file name: mask_id_50_T1w in path/home/ubuntu/data/hcp/100307/\n",
      "Storing file name: mask_id_51_T1w in path/home/ubuntu/data/hcp/100307/\n",
      "Storing file name: mask_id_52_T1w in path/home/ubuntu/data/hcp/100307/\n",
      "Storing file name: mask_id_53_T1w in path/home/ubuntu/data/hcp/100307/\n",
      "Storing file name: mask_id_54_T1w in path/home/ubuntu/data/hcp/100307/\n",
      "Storing file name: mask_id_58_T1w in path/home/ubuntu/data/hcp/100307/\n",
      "Storing file name: mask_id_60_T1w in path/home/ubuntu/data/hcp/100307/\n",
      "Storing file name: mask_id_62_T1w in path/home/ubuntu/data/hcp/100307/\n",
      "Storing file name: mask_id_63_T1w in path/home/ubuntu/data/hcp/100307/\n",
      "Storing file name: mask_id_77_T1w in path/home/ubuntu/data/hcp/100307/\n",
      "Storing file name: mask_id_80_T1w in path/home/ubuntu/data/hcp/100307/\n",
      "Storing file name: mask_id_85_T1w in path/home/ubuntu/data/hcp/100307/\n",
      "Storing file name: mask_id_251_T1w in path/home/ubuntu/data/hcp/100307/\n",
      "Storing file name: mask_id_252_T1w in path/home/ubuntu/data/hcp/100307/\n",
      "Storing file name: mask_id_253_T1w in path/home/ubuntu/data/hcp/100307/\n",
      "Storing file name: mask_id_254_T1w in path/home/ubuntu/data/hcp/100307/\n",
      "Storing file name: mask_id_255_T1w in path/home/ubuntu/data/hcp/100307/\n",
      "Storing file name: mask_id_1000_T1w in path/home/ubuntu/data/hcp/100307/\n",
      "Storing file name: mask_id_1001_T1w in path/home/ubuntu/data/hcp/100307/\n",
      "Storing file name: mask_id_1002_T1w in path/home/ubuntu/data/hcp/100307/\n",
      "Storing file name: mask_id_1003_T1w in path/home/ubuntu/data/hcp/100307/\n",
      "Storing file name: mask_id_1005_T1w in path/home/ubuntu/data/hcp/100307/\n",
      "Storing file name: mask_id_1006_T1w in path/home/ubuntu/data/hcp/100307/\n",
      "Storing file name: mask_id_1007_T1w in path/home/ubuntu/data/hcp/100307/\n",
      "Storing file name: mask_id_1008_T1w in path/home/ubuntu/data/hcp/100307/\n",
      "Storing file name: mask_id_1009_T1w in path/home/ubuntu/data/hcp/100307/\n",
      "Storing file name: mask_id_1010_T1w in path/home/ubuntu/data/hcp/100307/\n",
      "Storing file name: mask_id_1011_T1w in path/home/ubuntu/data/hcp/100307/\n",
      "Storing file name: mask_id_1012_T1w in path/home/ubuntu/data/hcp/100307/\n",
      "Storing file name: mask_id_1013_T1w in path/home/ubuntu/data/hcp/100307/\n",
      "Storing file name: mask_id_1014_T1w in path/home/ubuntu/data/hcp/100307/\n",
      "Storing file name: mask_id_1015_T1w in path/home/ubuntu/data/hcp/100307/\n",
      "Storing file name: mask_id_1016_T1w in path/home/ubuntu/data/hcp/100307/\n",
      "Storing file name: mask_id_1017_T1w in path/home/ubuntu/data/hcp/100307/\n",
      "Storing file name: mask_id_1018_T1w in path/home/ubuntu/data/hcp/100307/\n",
      "Storing file name: mask_id_1019_T1w in path/home/ubuntu/data/hcp/100307/\n",
      "Storing file name: mask_id_1020_T1w in path/home/ubuntu/data/hcp/100307/\n",
      "Storing file name: mask_id_1021_T1w in path/home/ubuntu/data/hcp/100307/\n",
      "Storing file name: mask_id_1022_T1w in path/home/ubuntu/data/hcp/100307/\n",
      "Storing file name: mask_id_1023_T1w in path/home/ubuntu/data/hcp/100307/\n",
      "Storing file name: mask_id_1024_T1w in path/home/ubuntu/data/hcp/100307/\n",
      "Storing file name: mask_id_1025_T1w in path/home/ubuntu/data/hcp/100307/\n",
      "Storing file name: mask_id_1026_T1w in path/home/ubuntu/data/hcp/100307/\n",
      "Storing file name: mask_id_1027_T1w in path/home/ubuntu/data/hcp/100307/\n",
      "Storing file name: mask_id_1028_T1w in path/home/ubuntu/data/hcp/100307/\n",
      "Storing file name: mask_id_1029_T1w in path/home/ubuntu/data/hcp/100307/\n",
      "Storing file name: mask_id_1030_T1w in path/home/ubuntu/data/hcp/100307/\n",
      "Storing file name: mask_id_1031_T1w in path/home/ubuntu/data/hcp/100307/\n",
      "Storing file name: mask_id_1032_T1w in path/home/ubuntu/data/hcp/100307/\n",
      "Storing file name: mask_id_1033_T1w in path/home/ubuntu/data/hcp/100307/\n",
      "Storing file name: mask_id_1034_T1w in path/home/ubuntu/data/hcp/100307/\n",
      "Storing file name: mask_id_1035_T1w in path/home/ubuntu/data/hcp/100307/\n",
      "Storing file name: mask_id_2000_T1w in path/home/ubuntu/data/hcp/100307/\n",
      "Storing file name: mask_id_2001_T1w in path/home/ubuntu/data/hcp/100307/\n",
      "Storing file name: mask_id_2002_T1w in path/home/ubuntu/data/hcp/100307/\n",
      "Storing file name: mask_id_2003_T1w in path/home/ubuntu/data/hcp/100307/\n",
      "Storing file name: mask_id_2005_T1w in path/home/ubuntu/data/hcp/100307/\n",
      "Storing file name: mask_id_2006_T1w in path/home/ubuntu/data/hcp/100307/\n",
      "Storing file name: mask_id_2007_T1w in path/home/ubuntu/data/hcp/100307/\n",
      "Storing file name: mask_id_2008_T1w in path/home/ubuntu/data/hcp/100307/\n",
      "Storing file name: mask_id_2009_T1w in path/home/ubuntu/data/hcp/100307/\n",
      "Storing file name: mask_id_2010_T1w in path/home/ubuntu/data/hcp/100307/\n",
      "Storing file name: mask_id_2011_T1w in path/home/ubuntu/data/hcp/100307/\n",
      "Storing file name: mask_id_2012_T1w in path/home/ubuntu/data/hcp/100307/\n",
      "Storing file name: mask_id_2013_T1w in path/home/ubuntu/data/hcp/100307/\n",
      "Storing file name: mask_id_2014_T1w in path/home/ubuntu/data/hcp/100307/\n",
      "Storing file name: mask_id_2015_T1w in path/home/ubuntu/data/hcp/100307/\n",
      "Storing file name: mask_id_2016_T1w in path/home/ubuntu/data/hcp/100307/\n",
      "Storing file name: mask_id_2017_T1w in path/home/ubuntu/data/hcp/100307/\n",
      "Storing file name: mask_id_2018_T1w in path/home/ubuntu/data/hcp/100307/\n",
      "Storing file name: mask_id_2019_T1w in path/home/ubuntu/data/hcp/100307/\n",
      "Storing file name: mask_id_2020_T1w in path/home/ubuntu/data/hcp/100307/\n",
      "Storing file name: mask_id_2021_T1w in path/home/ubuntu/data/hcp/100307/\n",
      "Storing file name: mask_id_2022_T1w in path/home/ubuntu/data/hcp/100307/\n",
      "Storing file name: mask_id_2023_T1w in path/home/ubuntu/data/hcp/100307/\n",
      "Storing file name: mask_id_2024_T1w in path/home/ubuntu/data/hcp/100307/\n",
      "Storing file name: mask_id_2025_T1w in path/home/ubuntu/data/hcp/100307/\n",
      "Storing file name: mask_id_2026_T1w in path/home/ubuntu/data/hcp/100307/\n"
     ]
    },
    {
     "name": "stdout",
     "output_type": "stream",
     "text": [
      "Storing file name: mask_id_2027_T1w in path/home/ubuntu/data/hcp/100307/\n",
      "Storing file name: mask_id_2028_T1w in path/home/ubuntu/data/hcp/100307/\n",
      "Storing file name: mask_id_2029_T1w in path/home/ubuntu/data/hcp/100307/\n",
      "Storing file name: mask_id_2030_T1w in path/home/ubuntu/data/hcp/100307/\n",
      "Storing file name: mask_id_2031_T1w in path/home/ubuntu/data/hcp/100307/\n",
      "Storing file name: mask_id_2032_T1w in path/home/ubuntu/data/hcp/100307/\n",
      "Storing file name: mask_id_2033_T1w in path/home/ubuntu/data/hcp/100307/\n",
      "Storing file name: mask_id_2034_T1w in path/home/ubuntu/data/hcp/100307/\n",
      "Storing file name: mask_id_2035_T1w in path/home/ubuntu/data/hcp/100307/\n"
     ]
    }
   ],
   "source": [
    "affine = load_affine(main_path)\n",
    "labels, parc_affine = load_parcellation(main_path)\n",
    "make_masks(labels, parc_affine) "
   ]
  },
  {
   "cell_type": "code",
   "execution_count": 2,
   "metadata": {},
   "outputs": [],
   "source": [
    "! cd masks\n",
    "! ls -d \"$PWD\"/* > listofmasks.list\n",
    "! cd .."
   ]
  },
  {
   "cell_type": "code",
   "execution_count": null,
   "metadata": {},
   "outputs": [],
   "source": []
  }
 ],
 "metadata": {
  "kernelspec": {
   "display_name": "Python 3",
   "language": "python",
   "name": "python3"
  },
  "language_info": {
   "codemirror_mode": {
    "name": "ipython",
    "version": 3
   },
   "file_extension": ".py",
   "mimetype": "text/x-python",
   "name": "python",
   "nbconvert_exporter": "python",
   "pygments_lexer": "ipython3",
   "version": "3.7.0"
  }
 },
 "nbformat": 4,
 "nbformat_minor": 2
}
