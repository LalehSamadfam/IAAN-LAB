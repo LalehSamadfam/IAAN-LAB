{
 "cells": [
  {
   "cell_type": "code",
   "execution_count": null,
   "metadata": {},
   "outputs": [],
   "source": [
    "import os\n",
    "from os.path import join\n",
    "import sys \n",
    "import glob\n",
    "import numpy as np\n",
    "import nibabel as nib\n",
    "from IPython.display import Image\n",
    "from nipype.interfaces import fsl\n",
    "from nipype.interfaces.fsl import utils\n",
    "from nipype.testing import example_data\n",
    "from subprocess import call\n",
    "\n",
    "from nipype.caching.memory import PipeFunc\n",
    "\n",
    "from nilearn.input_data import NiftiLabelsMasker\n",
    "from nilearn.connectome import ConnectivityMeasure\n",
    "\n",
    "import seaborn as sns\n",
    "import matplotlib.pyplot as plt"
   ]
  },
  {
   "cell_type": "code",
   "execution_count": null,
   "metadata": {},
   "outputs": [],
   "source": [
    "# Uncomment for downloading data\n",
    "# call(\"hcpdownload.sh\")"
   ]
  },
  {
   "cell_type": "code",
   "execution_count": null,
   "metadata": {},
   "outputs": [],
   "source": [
    "subject_id = '100307'"
   ]
  },
  {
   "cell_type": "code",
   "execution_count": null,
   "metadata": {},
   "outputs": [],
   "source": [
    "base_path = '/home/ubuntu/IAAN-LAB/data/hcp/'\n",
    "main_path = join(base_path, subject_id)"
   ]
  },
  {
   "cell_type": "code",
   "execution_count": null,
   "metadata": {},
   "outputs": [],
   "source": [
    "fmri_path = join(main_path, 'rfMRI_REST1_LR/')\n",
    "slice_path = join(fmri_path, 'split/vol0000.nii.gz')\n",
    "fmri_data_path = join(fmri_path, 'rfMRI_REST1_LR.nii.gz')\n",
    "t1_path =  join(join(main_path, 'T1w'), 'T1w_acpc_dc_restore_brain.nii.gz')\n",
    "atlas_path = join(main_path, 'aparc+aseg.nii.gz')"
   ]
  },
  {
   "cell_type": "code",
   "execution_count": null,
   "metadata": {},
   "outputs": [],
   "source": [
    "def run_flirt(reference_path, template_path, name):\n",
    "    flt = fsl.FLIRT(bins= 256, cost_func='corratio')\n",
    "    flt.inputs.in_file = template_path\n",
    "    flt.inputs.reference = reference_path\n",
    "    flt.inputs.output_type = \"NIFTI_GZ\"\n",
    "    flt.inputs.out_file = join(main_path, f'{name}.nii.gz')\n",
    "    flt.inputs.out_matrix_file = join(main_path, f'{name}.mat')\n",
    "    print('The following command is being run:')\n",
    "    print(flt.cmdline) # doctest: +ELLIPSIS\n",
    "    #'flirt -in structural.nii -ref mni.nii -out structural_flirt.nii.gz -omat structural_flirt.mat -bins 640 -searchcost mutualinfo'\n",
    "    res = flt.run() #doctest: +SKIP"
   ]
  },
  {
   "cell_type": "code",
   "execution_count": null,
   "metadata": {},
   "outputs": [],
   "source": [
    "# load the flirt affine matrix as a text, because flirt saves it that way?\n",
    "def load_affine(transform_name): \n",
    "    aff = open(join(main_path, f'{transform_name}.mat'))\n",
    "    aff = aff.read()\n",
    "    aff = [x.split(' ')[:-1] for x in aff.split('\\n')[:-1]]\n",
    "    aff = np.array([[float(y) for y in x[::2]] for x in aff])\n",
    "    print(f'{transform_name} transformation')\n",
    "    print(aff)\n",
    "    return aff"
   ]
  },
  {
   "cell_type": "code",
   "execution_count": null,
   "metadata": {},
   "outputs": [],
   "source": [
    "# load the atlas image, return its data and affine matrix\n",
    "def load_atlas(): \n",
    "    atlas = nib.load(atlas_path)\n",
    "    print('Shape of the atlas file:', atlas.shape)\n",
    "    print('Affine matrix for parcellation file', atlas.affine)\n",
    "    labels = atlas.get_fdata()\n",
    "    print('Total number of different labels in parcellation file:', len(np.unique(labels)))\n",
    "    return labels, atlas.affine"
   ]
  },
  {
   "cell_type": "code",
   "execution_count": null,
   "metadata": {},
   "outputs": [],
   "source": [
    "# warp all the fmri slices to atlas / T1 coordinates\n",
    "# it is slower than warping atlas to 1 fmri slice\n",
    "# but warping label info and not intensity requires warping, thresholding and merging masks\n",
    "# we are not dealing with potential errors (e.g. additional/overlapping ROIs) coming from that\n",
    "def fmri_apply_warp(in_path, out_path, transform_name): \n",
    "    masks_warped_path = join(main_path, \"masks_warped\")\n",
    "    try:\n",
    "        os.mkdir(out_path)\n",
    "    except FileExistsError:\n",
    "        pass\n",
    "    \n",
    "    for file in os.listdir(in_path):\n",
    "        aw = fsl.ApplyWarp()\n",
    "        aw.inputs.in_file = join(in_path, file)\n",
    "        aw.inputs.ref_file = t1_path\n",
    "        aw.inputs.premat = join(main_path, f'{transform_name}.mat')\n",
    "        aw.inputs.out_file = join(out_path, file)\n",
    "        #Note: this command says that the output file shall exist already\n",
    "        #aw.inputs.out_file = join(path, 'T1w_to_diff.nii.gz')\n",
    "        \n",
    "        print(f'Executing the following command for file {file}')\n",
    "        print(aw.cmdline)\n",
    "        res = aw.run() #doctest: +SKIP"
   ]
  },
  {
   "cell_type": "code",
   "execution_count": null,
   "metadata": {},
   "outputs": [],
   "source": [
    "# merge warped fmri slices into 1 image with fsl.Merge using PipeFunc\n",
    "def merge_fmri(path):\n",
    "    slice_0 = nib.load(join(path, 'vol0000.nii.gz'))\n",
    "    slice_0_affine = slice_0.affine\n",
    "    \n",
    "    path_list = [join(path, 'vol0000.nii.gz'),]\n",
    "    for i in range(1, 1200):\n",
    "        num = (4 - len(str(i))) * '0' + str(i)\n",
    "        filepath = join(path, f'vol{num}.nii.gz')\n",
    "        path_list.append(filepath)\n",
    "               \n",
    "    fsl_merge = PipeFunc(fsl.Merge, base_dir='.')\n",
    "    out = fsl_merge(in_files=path_list, dimension='t')\n",
    "    out_path = out.outputs.merged_file    \n",
    "    return out_path"
   ]
  },
  {
   "cell_type": "code",
   "execution_count": null,
   "metadata": {},
   "outputs": [],
   "source": [
    "transform_name = 'fmri_to_T1w'"
   ]
  },
  {
   "cell_type": "code",
   "execution_count": null,
   "metadata": {},
   "outputs": [],
   "source": [
    "# get the affine transform between fmri and T1 / atlas\n",
    "run_flirt(t1_path, slice_path, transform_name)"
   ]
  },
  {
   "cell_type": "code",
   "execution_count": null,
   "metadata": {},
   "outputs": [],
   "source": [
    "# load that affine transform\n",
    "affine_transform = load_affine(transform_name)"
   ]
  },
  {
   "cell_type": "code",
   "execution_count": null,
   "metadata": {},
   "outputs": [],
   "source": [
    "# warp fmri slices\n",
    "fmri_in_path = join(fmri_path, 'split')\n",
    "fmri_out_path = join(fmri_path, 'split_warped')\n",
    "fmri_apply_warp(fmri_in_path, fmri_out_path, transform_name)"
   ]
  },
  {
   "cell_type": "code",
   "execution_count": null,
   "metadata": {
    "scrolled": true
   },
   "outputs": [],
   "source": [
    "# merge warped fmri slices\n",
    "merged_fmri = merge_fmri(join(fmri_path, 'split'))"
   ]
  },
  {
   "cell_type": "code",
   "execution_count": null,
   "metadata": {},
   "outputs": [],
   "source": [
    "# fsl.Merge returns filepath in some temp folder - load the merged fmri data from there\n",
    "merged_fmri_data = nib.load(merged_fmri).get_fdata()"
   ]
  },
  {
   "cell_type": "code",
   "execution_count": null,
   "metadata": {},
   "outputs": [],
   "source": [
    "fmri_at_atlas_path = join(main_path, 'fmri_at_atlas.nii.gz')"
   ]
  },
  {
   "cell_type": "code",
   "execution_count": null,
   "metadata": {},
   "outputs": [],
   "source": [
    "# re-save the merged fmri in fmri_at_atlas_path\n",
    "slice_0 = nib.load(join(fmri_path, 'split/vol0000.nii.gz'))\n",
    "slice_0_affine = slice_0.affine \n",
    "img = nib.Nifti1Image(merged_fmri_data, slice_0_affine)\n",
    "img.to_filename(fmri_at_atlas_path)"
   ]
  },
  {
   "cell_type": "code",
   "execution_count": null,
   "metadata": {},
   "outputs": [],
   "source": [
    "# confirm that the shape of the new fmri data is the same\n",
    "# should have 1200 (number of frames) as the last, 4th dimension\n",
    "merged_fmri_data.shape"
   ]
  },
  {
   "cell_type": "code",
   "execution_count": null,
   "metadata": {
    "scrolled": false
   },
   "outputs": [],
   "source": [
    "# load the atlas\n",
    "labels, atlas_affine_mat = load_atlas()"
   ]
  },
  {
   "cell_type": "code",
   "execution_count": null,
   "metadata": {},
   "outputs": [],
   "source": [
    "# check how many labels are there in atlas\n",
    "# if it is N, connectivity matrix should be NxN \n",
    "len(np.unique(labels))"
   ]
  },
  {
   "cell_type": "markdown",
   "metadata": {},
   "source": [
    "Connectivity matrix. Nilearn library operates with file paths, not only get_fdata-loaded objects."
   ]
  },
  {
   "cell_type": "code",
   "execution_count": null,
   "metadata": {},
   "outputs": [],
   "source": [
    "connectome_measure = ConnectivityMeasure(kind='correlation')"
   ]
  },
  {
   "cell_type": "code",
   "execution_count": null,
   "metadata": {},
   "outputs": [],
   "source": [
    "masker = NiftiLabelsMasker(labels_img=atlas_path, standardize=True,\n",
    "                           memory='nilearn_cache')"
   ]
  },
  {
   "cell_type": "code",
   "execution_count": null,
   "metadata": {},
   "outputs": [],
   "source": [
    "masker_fit_transform = masker.fit_transform(fmri_at_atlas_path)"
   ]
  },
  {
   "cell_type": "code",
   "execution_count": null,
   "metadata": {},
   "outputs": [],
   "source": [
    "masker_fit_transform.shape"
   ]
  },
  {
   "cell_type": "code",
   "execution_count": null,
   "metadata": {},
   "outputs": [],
   "source": [
    "# produce correlation matrix\n",
    "# this function works on a list of subjects, so passing a 1-item list\n",
    "correlation_matrices = connectome_measure.fit_transform([masker_fit_transform,])"
   ]
  },
  {
   "cell_type": "code",
   "execution_count": null,
   "metadata": {},
   "outputs": [],
   "source": [
    "# by the same logic, getting the matrix for the first and only subject\n",
    "correlation_matrix = correlation_matrices[0]"
   ]
  },
  {
   "cell_type": "code",
   "execution_count": null,
   "metadata": {
    "scrolled": true
   },
   "outputs": [],
   "source": [
    "# confirm the matrix shape\n",
    "correlation_matrix.shape"
   ]
  },
  {
   "cell_type": "code",
   "execution_count": null,
   "metadata": {},
   "outputs": [],
   "source": [
    "# save the matrix\n",
    "matrix_path = join(main_path, 'correlation_matrix.txt')\n",
    "np.savetxt(matrix_path, correlation_matrix)"
   ]
  },
  {
   "cell_type": "code",
   "execution_count": null,
   "metadata": {},
   "outputs": [],
   "source": [
    "# mask for not showing diagonal elements\n",
    "diagonal_mask = np.triu(np.ones_like(correlation_matrix, dtype=bool))"
   ]
  },
  {
   "cell_type": "code",
   "execution_count": null,
   "metadata": {},
   "outputs": [],
   "source": [
    "# plot the matrix\n",
    "f, ax = plt.subplots(figsize=(11, 9))\n",
    "# cmap = sns.diverging_palette(230, 20, as_cmap=True)\n",
    "sns.heatmap(correlation_matrix, mask=diagonal_mask, vmax=1, center=0,\n",
    "            square=True, linewidths=.5, cbar_kws={\"shrink\": .5})"
   ]
  },
  {
   "cell_type": "code",
   "execution_count": null,
   "metadata": {},
   "outputs": [],
   "source": []
  }
 ],
 "metadata": {
  "kernelspec": {
   "display_name": "Python 3",
   "language": "python",
   "name": "python3"
  },
  "language_info": {
   "codemirror_mode": {
    "name": "ipython",
    "version": 3
   },
   "file_extension": ".py",
   "mimetype": "text/x-python",
   "name": "python",
   "nbconvert_exporter": "python",
   "pygments_lexer": "ipython3",
   "version": "3.7.0"
  }
 },
 "nbformat": 4,
 "nbformat_minor": 2
}
